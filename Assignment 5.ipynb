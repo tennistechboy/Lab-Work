{
 "cells": [
  {
   "cell_type": "markdown",
   "metadata": {},
   "source": [
    "# Assingment Number 5"
   ]
  },
  {
   "cell_type": "markdown",
   "metadata": {},
   "source": [
    "## 1. Write a program to calculate exponetial x,y using recursive function"
   ]
  },
  {
   "cell_type": "code",
   "execution_count": 15,
   "metadata": {},
   "outputs": [
    {
     "name": "stdout",
     "output_type": "stream",
     "text": [
      "Enter the base4\n",
      "Enter the exponent-4\n",
      "16.0\n"
     ]
    }
   ],
   "source": [
    "\n",
    "def rec_pow(base,exponent):\n",
    "    if exponent > 0:\n",
    "        if exponent==1:\n",
    "            return float(base)\n",
    "        else:\n",
    "            return (base*rec_pow(base,exponent-1))\n",
    "    elif exponent < 0:\n",
    "        if exponent == -1:\n",
    "            return float(1/base)\n",
    "        else:\n",
    "            return ((base*rec_pow(base,exponent)))\n",
    "    else:\n",
    "        return 1\n",
    "        \n",
    "base=int(input(\"Enter the base\"))\n",
    "exp=int(input(\"Enter the exponent\"))\n",
    "print(rec_pow(base,exp))"
   ]
  },
  {
   "cell_type": "markdown",
   "metadata": {},
   "source": [
    "## 2. WAP to add two numbers that are given using CLI"
   ]
  },
  {
   "cell_type": "code",
   "execution_count": 12,
   "metadata": {},
   "outputs": [
    {
     "data": {
      "text/plain": [
       "0.00390625"
      ]
     },
     "execution_count": 12,
     "metadata": {},
     "output_type": "execute_result"
    }
   ],
   "source": [
    "import sys\n",
    "a, b = sys.argv[1:2]\n",
    "summ = int(a) + int(b)\n",
    "print \"sum is\", summ"
   ]
  },
  {
   "cell_type": "markdown",
   "metadata": {},
   "source": [
    "## 3. WAP to implement tower of hannoi"
   ]
  },
  {
   "cell_type": "code",
   "execution_count": 3,
   "metadata": {},
   "outputs": [],
   "source": [
    "def TowerOfHanoi(n , _from, _to, aux): \n",
    "    if n == 1: \n",
    "        print (\"Move disk 1 from rod\",_from,\"to rod\",_to) \n",
    "        return 0\n",
    "    TowerOfHanoi(n-1, _from, aux, _to) \n",
    "    print (\"Move disk\",n,\"from rod\",_from,\"to rod\",_to)\n",
    "    TowerOfHanoi(n-1, aux, _to, _from) \n",
    "          \n",
    "n = input(\"Number of disks\")\n",
    "TowerOfHanoi(n, 'A', 'C', 'B') "
   ]
  },
  {
   "cell_type": "markdown",
   "metadata": {},
   "source": [
    "## 4. WAP to shuffle deck of Cards"
   ]
  },
  {
   "cell_type": "markdown",
   "metadata": {},
   "source": [
    "The following program when used in conjunction with C/C++ will have a better space and time complexity compared to an equivalent code which acutally implements shuffling."
   ]
  },
  {
   "cell_type": "code",
   "execution_count": 7,
   "metadata": {},
   "outputs": [
    {
     "name": "stdout",
     "output_type": "stream",
     "text": [
      "11♣\t12♥\t5♠\t6♠\t12♠\t11♥\t5♣\t9♥\t3♦\t6♣\t1♥\t8♦\t5♦\t10♠\t13♣\t8♠\t7♥\t3♠\t9♣\t4♦\t1♣\t7♣\t6♦\t8♥\t7♠\t3♣\t4♠\t10♥\t10♣\t5♥\t13♠\t9♠\t2♣\t13♥\t10♦\t2♥\t12♦\t7♦\t1♦\t11♦\t3♥\t9♦\t12♣\t2♦\t4♣\t8♣\t6♥\t4♥\t1♠\t13♦\t11♠\t2♠\t"
     ]
    }
   ],
   "source": [
    "deck_of_cards = []\n",
    "for char in [\"\\u2665\",\"\\u2660\",\"\\u2666\",\"\\u2663\"]:\n",
    "    for number in range(1,14):\n",
    "        deck_of_cards.append(str(number)+char)\n",
    "deck_of_cards=set(deck_of_cards)\n",
    "for i in deck_of_cards:\n",
    "    print(i,end=\"\\t\")"
   ]
  },
  {
   "cell_type": "markdown",
   "metadata": {},
   "source": [
    "## 5. The occurence of a charecter in string"
   ]
  },
  {
   "cell_type": "code",
   "execution_count": 1,
   "metadata": {},
   "outputs": [
    {
     "name": "stdout",
     "output_type": "stream",
     "text": [
      "StringHello World\n",
      "Enter the substringWorld\n",
      "1\n"
     ]
    }
   ],
   "source": [
    "p_s = input(\"String\")\n",
    "s_s = input(\"Enter the substring\")\n",
    "print(p_s.count(s_s))"
   ]
  },
  {
   "cell_type": "markdown",
   "metadata": {},
   "source": [
    "## 6. WAP to parse an email id to print from which email server it was sent."
   ]
  },
  {
   "cell_type": "code",
   "execution_count": 10,
   "metadata": {},
   "outputs": [
    {
     "name": "stdout",
     "output_type": "stream",
     "text": [
      "['@xyz.co.in', '14:00:20']\n"
     ]
    }
   ],
   "source": [
    "import re  \n",
    "s = 'ads@xyz.co.in 14:00:20'\n",
    "lst = re.findall('@\\S+', s)\n",
    "lst.extend(re.findall('\\S+:\\S+:\\S+', s))\n",
    "print(lst)"
   ]
  }
 ],
 "metadata": {
  "kernelspec": {
   "display_name": "Python 3",
   "language": "python",
   "name": "python3"
  },
  "language_info": {
   "codemirror_mode": {
    "name": "ipython",
    "version": 3
   },
   "file_extension": ".py",
   "mimetype": "text/x-python",
   "name": "python",
   "nbconvert_exporter": "python",
   "pygments_lexer": "ipython3",
   "version": "3.7.3"
  }
 },
 "nbformat": 4,
 "nbformat_minor": 2
}
