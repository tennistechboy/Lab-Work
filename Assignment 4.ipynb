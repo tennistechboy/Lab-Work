{
 "cells": [
  {
   "cell_type": "markdown",
   "metadata": {},
   "source": [
    "1. WA Loop program to read the numbers until -1 is encountered also count the number of prime numbers and composite nums entered by the user.\n",
    "2. Write a prog to sum the following series:\n",
    "    1+1/2+1/3+....\n",
    "    1/(n^2)\n",
    "    n/(n+1)\n",
    "    n^n/n\n",
    "3. Write a program to print:\n",
    "    *\n",
    "    **\n",
    "    ***\n",
    "    and the other forms of triangles that exist, numbers as well.\n",
    "    \n",
    "4. Write a program to convert time into minutes.\n",
    "5. WAP that uses docstrings and variable length arguments.\n",
    "6. Write a program to calculate the GCD or HCF using recursive function."
   ]
  },
  {
   "cell_type": "code",
   "execution_count": 7,
   "metadata": {},
   "outputs": [
    {
     "name": "stdout",
     "output_type": "stream",
     "text": [
      "100\n",
      "100 \n",
      " 27 \n",
      " 73\n"
     ]
    }
   ],
   "source": [
    "#1\n",
    "def prime_counter(num):\n",
    "    prime_count=0\n",
    "    for i in range(2,num):\n",
    "        if num%i==0:\n",
    "            return 0\n",
    "    return 1\n",
    "num_counter=0\n",
    "num_prime=0\n",
    "while(True):\n",
    "    num = int(input())\n",
    "    if num<0:\n",
    "        break;\n",
    "    num_prime+=prime_counter(num)\n",
    "    num_counter+=1\n",
    "\n",
    "print(num_counter,\"\\n\",num_prime,\"\\n\",num_counter-num_prime)"
   ]
  },
  {
   "cell_type": "code",
   "execution_count": null,
   "metadata": {},
   "outputs": [],
   "source": [
    "series_sum=0\n",
    "stop=int(input())\n",
    "for step in range(stop):\n",
    "    series_sum+=(1/step)\n",
    "print(series_sum)"
   ]
  },
  {
   "cell_type": "code",
   "execution_count": null,
   "metadata": {},
   "outputs": [],
   "source": [
    "series_sum=0\n",
    "stop=int(input())\n",
    "for step in range(stop):\n",
    "    series_sum+=(1/step**2)\n",
    "print(series_sum)"
   ]
  },
  {
   "cell_type": "code",
   "execution_count": null,
   "metadata": {},
   "outputs": [],
   "source": [
    "series_sum=0\n",
    "stop=int(input())\n",
    "for step in range(stop):\n",
    "    series_sum+=(step/(step+1))\n",
    "print(series_sum)"
   ]
  },
  {
   "cell_type": "code",
   "execution_count": null,
   "metadata": {},
   "outputs": [],
   "source": [
    "series_sum=0\n",
    "stop=int(input())\n",
    "for step in range(stop):\n",
    "    series_sum+=(step**(step-1))\n",
    "print(series_sum)"
   ]
  },
  {
   "cell_type": "code",
   "execution_count": null,
   "metadata": {},
   "outputs": [],
   "source": [
    "time = int(input(\"Input Time\"))\n",
    "unit=input(\"Enter the unit of time; h for hour and s for second\")\n",
    "if unit == \"h\":\n",
    "    print(time*60)\n",
    "elif unit == \"s\":\n",
    "    print(time/60)\n",
    "else:\n",
    "    print(\"Invalid\")"
   ]
  },
  {
   "cell_type": "code",
   "execution_count": 5,
   "metadata": {},
   "outputs": [
    {
     "name": "stdout",
     "output_type": "stream",
     "text": [
      "2\n",
      "3\n",
      "4\n",
      "6\n",
      "9\n",
      "8\n",
      "7\n",
      "8\n"
     ]
    }
   ],
   "source": [
    "def args_and_kwargs(*ar):\n",
    "    \"\"\"This is a function which shows a very basic implementation of args\"\"\"\n",
    "    for element in ar:\n",
    "        print(element)\n",
    "\n",
    "args_and_kwargs(2,3,4,6,9,8,7,8)"
   ]
  },
  {
   "cell_type": "code",
   "execution_count": 8,
   "metadata": {},
   "outputs": [
    {
     "name": "stdout",
     "output_type": "stream",
     "text": [
      "5\n",
      "\n",
      "*\n",
      "**\n",
      "***\n",
      "****\n"
     ]
    }
   ],
   "source": [
    "num_line=int(input())\n",
    "for i in range(num_line):\n",
    "    for j in range(i):\n",
    "        print(\"*\",end=\"\")\n",
    "    print()"
   ]
  },
  {
   "cell_type": "code",
   "execution_count": 9,
   "metadata": {},
   "outputs": [
    {
     "name": "stdout",
     "output_type": "stream",
     "text": [
      "6\n",
      "******\n",
      "*****\n",
      "****\n",
      "***\n",
      "**\n",
      "*\n"
     ]
    }
   ],
   "source": [
    "num_line=int(input())\n",
    "for i in range(num_line,0,-1):\n",
    "    for j in range(i):\n",
    "        print(\"*\",end=\"\")\n",
    "    print()"
   ]
  },
  {
   "cell_type": "code",
   "execution_count": 11,
   "metadata": {},
   "outputs": [
    {
     "name": "stdout",
     "output_type": "stream",
     "text": [
      "5\n",
      "\n",
      "*\n",
      "**\n",
      "***\n",
      "****\n",
      "*****\n",
      "****\n",
      "***\n",
      "**\n",
      "*\n"
     ]
    }
   ],
   "source": [
    "num_line=int(input())\n",
    "for i in range(num_line):\n",
    "    for j in range(i):\n",
    "        print(\"*\",end=\"\")\n",
    "    print()\n",
    "for i in range(num_line,0,-1):\n",
    "    for j in range(i):\n",
    "        print(\"*\",end=\"\")\n",
    "    print()"
   ]
  },
  {
   "cell_type": "code",
   "execution_count": 2,
   "metadata": {},
   "outputs": [
    {
     "name": "stdout",
     "output_type": "stream",
     "text": [
      "4\n",
      "\n",
      "1\n",
      "12\n",
      "123\n"
     ]
    }
   ],
   "source": [
    "num_line=int(input())\n",
    "for i in range(num_line):\n",
    "    for j in range(i):\n",
    "        print(str(j+1),end=\"\")\n",
    "    print()"
   ]
  },
  {
   "cell_type": "code",
   "execution_count": 3,
   "metadata": {},
   "outputs": [
    {
     "name": "stdout",
     "output_type": "stream",
     "text": [
      "5\n",
      "\n",
      "1\n",
      "12\n",
      "123\n",
      "1234\n",
      "12345\n",
      "1234\n",
      "123\n",
      "12\n",
      "1\n"
     ]
    }
   ],
   "source": [
    "num_line=int(input())\n",
    "for i in range(num_line):\n",
    "    for j in range(i):\n",
    "        print(str(j+1),end=\"\")\n",
    "    print()\n",
    "for i in range(num_line,0,-1):\n",
    "    for j in range(i):\n",
    "        print(str(j+1),end=\"\")\n",
    "    print()"
   ]
  },
  {
   "cell_type": "code",
   "execution_count": 5,
   "metadata": {},
   "outputs": [
    {
     "name": "stdout",
     "output_type": "stream",
     "text": [
      "5\n",
      "        * \n",
      "       * * \n",
      "      * * * \n",
      "     * * * * \n",
      "    * * * * * \n"
     ]
    }
   ],
   "source": [
    "def triangle(n): \n",
    "    k = 2*n - 2\n",
    "    for i in range(0, n): \n",
    "        for j in range(0, k): \n",
    "            print(end=\" \") \n",
    "        k = k - 1\n",
    "        for j in range(0, i+1):\n",
    "            print(\"* \", end=\"\")\n",
    "        print(\"\\r\")\n",
    "n = int(input())\n",
    "triangle(n) "
   ]
  },
  {
   "cell_type": "code",
   "execution_count": 7,
   "metadata": {},
   "outputs": [
    {
     "name": "stdout",
     "output_type": "stream",
     "text": [
      "45\n",
      "5\n",
      "The gcd of  45  and  5  is : 5\n"
     ]
    }
   ],
   "source": [
    "def rec_gcd(a,b): \n",
    "    if(b==0): \n",
    "        return a \n",
    "    else: \n",
    "        return rec_gcd(b,a%b) \n",
    "\n",
    "a = int(input())\n",
    "b= int(input())\n",
    "print (\"The gcd of \",a,\" and \",b,\" is : \",end=\"\") \n",
    "print (rec_gcd(a,b)) "
   ]
  }
 ],
 "metadata": {
  "kernelspec": {
   "display_name": "Python 3",
   "language": "python",
   "name": "python3"
  },
  "language_info": {
   "codemirror_mode": {
    "name": "ipython",
    "version": 3
   },
   "file_extension": ".py",
   "mimetype": "text/x-python",
   "name": "python",
   "nbconvert_exporter": "python",
   "pygments_lexer": "ipython3",
   "version": "3.7.3"
  }
 },
 "nbformat": 4,
 "nbformat_minor": 2
}
