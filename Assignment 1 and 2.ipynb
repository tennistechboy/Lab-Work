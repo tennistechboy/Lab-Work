{
 "cells": [
  {
   "cell_type": "code",
   "execution_count": 1,
   "metadata": {
    "scrolled": true
   },
   "outputs": [
    {
     "name": "stdout",
     "output_type": "stream",
     "text": [
      "3\n",
      "Odd\n"
     ]
    }
   ],
   "source": [
    "num = int(input())\n",
    "if num%2==0:\n",
    "    print(\"Even\")\n",
    "else:\n",
    "    print(\"Odd\")"
   ]
  },
  {
   "cell_type": "code",
   "execution_count": null,
   "metadata": {},
   "outputs": [],
   "source": [
    "def print_formatted(number):\n",
    "    for num in range(1,number+1):\n",
    "        print(str(num),\"\\t\",format(num, 'o'),\"\\t\",format(num,'X'),\"\\t\",format(num,'b'))\n",
    "\n",
    "n = int(input())\n",
    "print_formatted(n)"
   ]
  },
  {
   "cell_type": "code",
   "execution_count": 2,
   "metadata": {
    "scrolled": true
   },
   "outputs": [
    {
     "name": "stdout",
     "output_type": "stream",
     "text": [
      "23\n",
      "Prime\n"
     ]
    }
   ],
   "source": [
    "num = int(input())\n",
    "flag = 1\n",
    "for i in range(2,num):\n",
    "    if num%i==0:\n",
    "        print(\"Not prime\")\n",
    "        flag = 0\n",
    "if flag:\n",
    "    print(\"Prime\")"
   ]
  },
  {
   "cell_type": "code",
   "execution_count": 3,
   "metadata": {},
   "outputs": [
    {
     "name": "stdout",
     "output_type": "stream",
     "text": [
      "3\n",
      "4\n",
      "5\n"
     ]
    }
   ],
   "source": [
    "a=int(input())\n",
    "b=int(input())\n",
    "c=int(input())\n",
    "s=(a+b+c)/2\n",
    "area=(s*(s-a)*(s-b)*(s-c))**0.5"
   ]
  },
  {
   "cell_type": "code",
   "execution_count": 5,
   "metadata": {},
   "outputs": [
    {
     "name": "stdout",
     "output_type": "stream",
     "text": [
      "Enter the dimension2\n",
      "Point 1 coordinates\n",
      "3\n",
      "4\n",
      "Point 2 coordinates\n",
      "5\n",
      "6\n",
      "2.8284271247461903\n"
     ]
    }
   ],
   "source": [
    "point_1 = []\n",
    "point_2 = []\n",
    "dimension = int(input(\"Enter the dimension\"))\n",
    "\n",
    "print(\"Point 1 coordinates\")\n",
    "for i in range(dimension):\n",
    "    point_1.append(int(input()))\n",
    "\n",
    "print(\"Point 2 coordinates\")\n",
    "for i in range(dimension):\n",
    "    point_2.append(int(input()))\n",
    "\n",
    "sum=0\n",
    "for i in range(dimension):\n",
    "    sum+= (point_2[i] - point_1[i])**2\n",
    "    \n",
    "sum=sum**(1/2)\n",
    "\n",
    "print(sum)"
   ]
  },
  {
   "cell_type": "code",
   "execution_count": 6,
   "metadata": {},
   "outputs": [
    {
     "name": "stdout",
     "output_type": "stream",
     "text": [
      "Enter the number23456\n",
      "6\n"
     ]
    }
   ],
   "source": [
    "_in = input(\"Enter the number\")\n",
    "print(_in[-1])"
   ]
  },
  {
   "cell_type": "code",
   "execution_count": 7,
   "metadata": {},
   "outputs": [
    {
     "name": "stdout",
     "output_type": "stream",
     "text": [
      "#1020\n",
      "#510\n",
      "#22\n",
      "#13\n",
      "1200\n"
     ]
    }
   ],
   "source": [
    "n10=int(input(\"#10\"))\n",
    "n5=int(input(\"#5\"))\n",
    "n2=int(input(\"#2\"))\n",
    "n1=int(input(\"#1\"))\n",
    "\n",
    "print(n10*n5*n2*n1)"
   ]
  },
  {
   "cell_type": "code",
   "execution_count": 10,
   "metadata": {},
   "outputs": [
    {
     "name": "stdout",
     "output_type": "stream",
     "text": [
      "Enter the marks of term 112\n",
      "Enter the marks of term 232\n",
      "Enter the marks of term 356\n",
      "Enter the marks of sport 146\n",
      "Enter the marks of sport 2449\n",
      "Enter the mark of exam45\n",
      "The total makrs is 151.5\n"
     ]
    }
   ],
   "source": [
    "t_1=int(input(\"Enter the marks of term 1\"))\n",
    "t_2=int(input(\"Enter the marks of term 2\"))\n",
    "t_3=int(input(\"Enter the marks of term 3\"))\n",
    "s_1=int(input(\"Enter the marks of sport 1\"))\n",
    "s_2=int(input(\"Enter the marks of sport 2\"))\n",
    "exam=int(input(\"Enter the mark of exam\"))\n",
    "\n",
    "print(\"The total makrs is\",(((t_1+t_2+t_3)*0.3)+((s_1+s_2)*0.2)+(exam*0.5)))"
   ]
  },
  {
   "cell_type": "code",
   "execution_count": 3,
   "metadata": {},
   "outputs": [
    {
     "data": {
      "text/plain": [
       "array([1, 2, 3, 4])"
      ]
     },
     "execution_count": 3,
     "metadata": {},
     "output_type": "execute_result"
    }
   ],
   "source": [
    "import numpy as np\n",
    "np.array([1,2,3,4])"
   ]
  },
  {
   "cell_type": "code",
   "execution_count": 6,
   "metadata": {},
   "outputs": [
    {
     "data": {
      "text/plain": [
       "[1, 2, 3, 1, 2, 3]"
      ]
     },
     "execution_count": 6,
     "metadata": {},
     "output_type": "execute_result"
    }
   ],
   "source": [
    "a=[1,2,3]\n",
    "b=[1,2,3]\n",
    "a+b"
   ]
  },
  {
   "cell_type": "code",
   "execution_count": 21,
   "metadata": {},
   "outputs": [
    {
     "name": "stdout",
     "output_type": "stream",
     "text": [
      "153\n",
      "153\n"
     ]
    }
   ],
   "source": [
    "num_list = list(input())\n",
    "num_list = [int(x) for x in num_list]\n",
    "sum=0\n",
    "for element in num_list:\n",
    "    sum+=element**3\n",
    "    \n",
    "print(sum)"
   ]
  },
  {
   "cell_type": "code",
   "execution_count": 22,
   "metadata": {},
   "outputs": [],
   "source": [
    "import random"
   ]
  },
  {
   "cell_type": "code",
   "execution_count": 24,
   "metadata": {},
   "outputs": [
    {
     "data": {
      "text/plain": [
       "0.6363720046448347"
      ]
     },
     "execution_count": 24,
     "metadata": {},
     "output_type": "execute_result"
    }
   ],
   "source": [
    "random.random()"
   ]
  }
 ],
 "metadata": {
  "kernelspec": {
   "display_name": "Python 3",
   "language": "python",
   "name": "python3"
  },
  "language_info": {
   "codemirror_mode": {
    "name": "ipython",
    "version": 3
   },
   "file_extension": ".py",
   "mimetype": "text/x-python",
   "name": "python",
   "nbconvert_exporter": "python",
   "pygments_lexer": "ipython3",
   "version": "3.7.3"
  }
 },
 "nbformat": 4,
 "nbformat_minor": 2
}
