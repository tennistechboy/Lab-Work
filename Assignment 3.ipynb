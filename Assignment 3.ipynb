{
 "cells": [
  {
   "cell_type": "code",
   "execution_count": 2,
   "metadata": {},
   "outputs": [
    {
     "name": "stdout",
     "output_type": "stream",
     "text": [
      "enter the first name of the personJason\n",
      "enter the last name of the personStatham\n",
      "the reversed name is mahtatS nosaJ\n"
     ]
    }
   ],
   "source": [
    "str1=input(\"enter the first name of the person\").lower()\n",
    "str2=input(\"enter the last name of the person\").lower()\n",
    "str3=\"\"\n",
    "str4=\"\"\n",
    "str3=str1[::-1]\n",
    "str4=str2[::-1]\n",
    "print(\"the reversed name is\",str4+\" \"+str3)"
   ]
  },
  {
   "cell_type": "code",
   "execution_count": 3,
   "metadata": {},
   "outputs": [
    {
     "name": "stdout",
     "output_type": "stream",
     "text": [
      "The original list is :['Red', 'Green', 'White', 'Black']\n",
      "The first and last element of list are : ['Red', 'Black']\n"
     ]
    }
   ],
   "source": [
    "color_list=[\"Red\",\"Green\",\"White\",\"Black\"]\n",
    "print(\"The original list is :\"+str(color_list))\n",
    "res=[color_list[0],color_list[-1]]\n",
    "print(\"The first and last element of list are : \"+str(res)) "
   ]
  },
  {
   "cell_type": "code",
   "execution_count": 4,
   "metadata": {},
   "outputs": [
    {
     "name": "stdout",
     "output_type": "stream",
     "text": [
      "The ceil value is: The floor value is: math.floor()\n",
      "The abdolute value is: abs()\n",
      "The logarithmic value to the base 2 is: math.log(base,exponent)\n",
      "The factorial value is: math.factorial(m)\n",
      "The gcd  value is: math.gcd(n1,n2)\n",
      "The square root value is: math.sqrt(m)\n",
      "The power function value is: math.pow(base,exp)\n",
      "The logarithmic value to the base 10 is: math.log10(m)\n",
      "The remainder value is: math.fmod(m,a)\n",
      "The sine function value is: math.sin(m)\n",
      "The cosine function value is: math.cos(m)\n",
      "The tan function value is: math.tan(m)\n",
      "The truncated function value is: math.trunc(n)\n"
     ]
    }
   ],
   "source": [
    "import math\n",
    "print(\"The ceil value is:\",end=\" \")\n",
    "print(\"The floor value is:\",end=\" \")\n",
    "print(\"math.floor()\")\n",
    "print(\"The abdolute value is:\",end=\" \")\n",
    "print(\"abs()\")\n",
    "print(\"The logarithmic value to the base 2 is:\",end=\" \")\n",
    "print(\"math.log(base,exponent)\")\n",
    "print(\"The factorial value is:\",end=\" \")\n",
    "print(\"math.factorial(m)\")\n",
    "print(\"The gcd  value is:\",end=\" \")\n",
    "print(\"math.gcd(n1,n2)\")\n",
    "print(\"The square root value is:\",end=\" \")\n",
    "print(\"math.sqrt(m)\")\n",
    "print(\"The power function value is:\",end=\" \")\n",
    "print(\"math.pow(base,exp)\")\n",
    "print(\"The logarithmic value to the base 10 is:\",end=\" \")\n",
    "print(\"math.log10(m)\")\n",
    "print(\"The remainder value is:\",end=\" \")\n",
    "print(\"math.fmod(m,a)\")\n",
    "print(\"The sine function value is:\",end=\" \")\n",
    "print(\"math.sin(m)\")\n",
    "print(\"The cosine function value is:\",end=\" \")\n",
    "print(\"math.cos(m)\")\n",
    "print(\"The tan function value is:\",end=\" \")\n",
    "print(\"math.tan(m)\")\n",
    "print(\"The truncated function value is:\",end=\" \")\n",
    "print(\"math.trunc(n)\")"
   ]
  },
  {
   "cell_type": "code",
   "execution_count": 5,
   "metadata": {},
   "outputs": [
    {
     "name": "stdout",
     "output_type": "stream",
     "text": [
      "enter a number45\n",
      "To get the difference between the entered number and 17:\n",
      "28\n",
      "result is: 56\n"
     ]
    }
   ],
   "source": [
    "import math\n",
    "n=int(input(\"enter a number\"))\n",
    "print(\"To get the difference between the entered number and 17:\")\n",
    "print(abs(n-17))\n",
    "if(n>17):\n",
    "    n=(2*abs(n-17))\n",
    "else:\n",
    "    n=n\n",
    "print(\"result is:\",n)"
   ]
  },
  {
   "cell_type": "code",
   "execution_count": 6,
   "metadata": {},
   "outputs": [
    {
     "name": "stdout",
     "output_type": "stream",
     "text": [
      "enter a number102\n",
      "102 lies in the range 100 to 1000\n"
     ]
    }
   ],
   "source": [
    "y=int(input(\"enter a number\"))\n",
    "if y>=100 and y<=1000:\n",
    "    print(str(y)+ \" lies in the range 100 to 1000\")\n",
    "elif y>=1000 and y<=2000:\n",
    "    print(str(y)+\" lies in the range 1000 to 2000\")\n",
    "else:\n",
    "    print(\"the entered number is not in the required range\")"
   ]
  },
  {
   "cell_type": "code",
   "execution_count": 7,
   "metadata": {},
   "outputs": [
    {
     "name": "stdout",
     "output_type": "stream",
     "text": [
      "enter the range for the list of items3\n",
      "enter the element:45\n",
      "enter the element:89\n",
      "enter the element:90\n",
      "enter the element to be searched45\n",
      "the element is not present in the list\n"
     ]
    }
   ],
   "source": [
    "n=int(input(\"enter the range for the list of items\"))\n",
    "list1=[ ]\n",
    "for i in range(n):\n",
    "    t=int(input(\"enter the element:\"))\n",
    "    list1.append(t)\n",
    "s=int(input(\"enter the element to be searched\"))\n",
    "if i in list1:\n",
    "      print(\"the element is present in the list\")\n",
    "else:\n",
    "      print(\"the element is not present in the list\")"
   ]
  },
  {
   "cell_type": "code",
   "execution_count": 8,
   "metadata": {},
   "outputs": [
    {
     "name": "stdout",
     "output_type": "stream",
     "text": [
      "Python version\n",
      "3.7.3 (default, Mar 27 2019, 17:13:21) [MSC v.1915 64 bit (AMD64)]\n",
      "Version info.\n",
      "sys.version_info(major=3, minor=7, micro=3, releaselevel='final', serial=0)\n"
     ]
    }
   ],
   "source": [
    "import sys\n",
    "print(\"Python version\")\n",
    "print(sys.version)\n",
    "print(\"Version info.\")\n",
    "print(sys.version_info)"
   ]
  },
  {
   "cell_type": "code",
   "execution_count": 9,
   "metadata": {},
   "outputs": [
    {
     "name": "stdout",
     "output_type": "stream",
     "text": [
      "Current date and time:\n",
      "2019-08-09 15:05:22\n"
     ]
    }
   ],
   "source": [
    "import datetime\n",
    "now=datetime.datetime.now()\n",
    "print(\"Current date and time:\")\n",
    "print(now.strftime(\"%Y-%m-%d %H:%M:%S\"))"
   ]
  }
 ],
 "metadata": {
  "kernelspec": {
   "display_name": "Python 3",
   "language": "python",
   "name": "python3"
  },
  "language_info": {
   "codemirror_mode": {
    "name": "ipython",
    "version": 3
   },
   "file_extension": ".py",
   "mimetype": "text/x-python",
   "name": "python",
   "nbconvert_exporter": "python",
   "pygments_lexer": "ipython3",
   "version": "3.7.3"
  }
 },
 "nbformat": 4,
 "nbformat_minor": 2
}
